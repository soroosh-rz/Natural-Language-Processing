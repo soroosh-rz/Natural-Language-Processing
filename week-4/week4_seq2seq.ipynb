{
  "nbformat": 4,
  "nbformat_minor": 0,
  "metadata": {
    "colab": {
      "name": "week4-seq2seq.ipynb",
      "version": "0.3.2",
      "provenance": [],
      "collapsed_sections": [],
      "toc_visible": true
    },
    "language_info": {
      "codemirror_mode": {
        "name": "ipython",
        "version": 3
      },
      "file_extension": ".py",
      "mimetype": "text/x-python",
      "name": "python",
      "nbconvert_exporter": "python",
      "pygments_lexer": "ipython3",
      "version": "3.4.3"
    },
    "kernelspec": {
      "name": "python3",
      "display_name": "Python 3"
    },
    "accelerator": "GPU"
  },
  "cells": [
    {
      "cell_type": "markdown",
      "metadata": {
        "id": "CDZ783z591f7",
        "colab_type": "text"
      },
      "source": [
        "# Learn to calculate with seq2seq model\n",
        "\n",
        "In this assignment, you will learn how to use neural networks to solve sequence-to-sequence prediction tasks. Seq2Seq models are very popular these days because they achieve great results in Machine Translation, Text Summarization, Conversational Modeling and more.\n",
        "\n",
        "Using sequence-to-sequence modeling you are going to build a calculator for evaluating arithmetic expressions, by taking an equation as an input to the neural network and producing an answer as it's output.\n",
        "\n",
        "The resulting solution for this problem will be based on state-of-the-art approaches for sequence-to-sequence learning and you should be able to easily adapt it to solve other tasks. However, if you want to train your own machine translation system or intellectual chat bot, it would be useful to have access to compute resources like GPU, and be patient, because training of such systems is usually time consuming. \n",
        "\n",
        "### Libraries\n",
        "\n",
        "For this task you will need the following libraries:\n",
        " - [TensorFlow](https://www.tensorflow.org) — an open-source software library for Machine Intelligence.\n",
        " - [scikit-learn](http://scikit-learn.org/stable/index.html) — a tool for data mining and data analysis.\n",
        " \n",
        "If you have never worked with TensorFlow, you will probably want to read some tutorials during your work on this assignment, e.g. [Neural Machine Translation](https://www.tensorflow.org/tutorials/seq2seq) tutorial deals with very similar task and can explain some concepts to you. "
      ]
    },
    {
      "cell_type": "markdown",
      "metadata": {
        "id": "yw_0gduy91gB",
        "colab_type": "text"
      },
      "source": [
        "### Data\n",
        "\n",
        "One benefit of this task is that you don't need to download any data — you will generate it on your own! We will use two operators (addition and subtraction) and work with positive integer numbers in some range. Here are examples of correct inputs and outputs:\n",
        "\n",
        "    Input: '1+2'\n",
        "    Output: '3'\n",
        "    \n",
        "    Input: '0-99'\n",
        "    Output: '-99'\n",
        "\n",
        "*Note, that there are no spaces between operators and operands.*\n",
        "\n",
        "\n",
        "Now you need to implement the function *generate_equations*, which will be used to generate the data."
      ]
    },
    {
      "cell_type": "code",
      "metadata": {
        "id": "B13sbtOBOIKe",
        "colab_type": "code",
        "colab": {
          "base_uri": "https://localhost:8080/",
          "height": 217
        },
        "outputId": "c2c5aca5-4808-47e1-e9d1-4f41bdbbd055"
      },
      "source": [
        "! wget https://raw.githubusercontent.com/hse-aml/natural-language-processing/master/setup_google_colab.py -O setup_google_colab.py\n",
        "import setup_google_colab\n",
        "setup_google_colab.setup_week4()"
      ],
      "execution_count": 1,
      "outputs": [
        {
          "output_type": "stream",
          "text": [
            "--2019-07-06 16:58:44--  https://raw.githubusercontent.com/hse-aml/natural-language-processing/master/setup_google_colab.py\n",
            "Resolving raw.githubusercontent.com (raw.githubusercontent.com)... 151.101.0.133, 151.101.64.133, 151.101.128.133, ...\n",
            "Connecting to raw.githubusercontent.com (raw.githubusercontent.com)|151.101.0.133|:443... connected.\n",
            "HTTP request sent, awaiting response... 200 OK\n",
            "Length: 2330 (2.3K) [text/plain]\n",
            "Saving to: ‘setup_google_colab.py’\n",
            "\n",
            "setup_google_colab. 100%[===================>]   2.28K  --.-KB/s    in 0s      \n",
            "\n",
            "2019-07-06 16:58:45 (46.4 MB/s) - ‘setup_google_colab.py’ saved [2330/2330]\n",
            "\n"
          ],
          "name": "stdout"
        }
      ]
    },
    {
      "cell_type": "code",
      "metadata": {
        "id": "-NfFtDi391gF",
        "colab_type": "code",
        "colab": {}
      },
      "source": [
        "import random"
      ],
      "execution_count": 0,
      "outputs": []
    },
    {
      "cell_type": "code",
      "metadata": {
        "id": "v59cwQKt91gO",
        "colab_type": "code",
        "colab": {}
      },
      "source": [
        "def generate_equations(allowed_operators, dataset_size, min_value, max_value):\n",
        "    \"\"\"Generates pairs of equations and solutions to them.\n",
        "    \n",
        "       Each equation has a form of two integers with an operator in between.\n",
        "       Each solution is an integer with the result of the operaion.\n",
        "    \n",
        "        allowed_operators: list of strings, allowed operators.\n",
        "        dataset_size: an integer, number of equations to be generated.\n",
        "        min_value: an integer, min value of each operand.\n",
        "        max_value: an integer, max value of each operand.\n",
        "\n",
        "        result: a list of tuples of strings (equation, solution).\n",
        "    \"\"\"\n",
        "    sample = []\n",
        "    for _ in range(dataset_size):\n",
        "        ######################################\n",
        "        ######### YOUR CODE HERE #############\n",
        "        ######################################\n",
        "        a1 = random.randint(a = min_value, b = max_value)\n",
        "        a2 = random.randint(a = min_value, b = max_value)\n",
        "        opr = random.choice(allowed_operators)\n",
        "        equ = str(a1)+str(opr)+str(a2)\n",
        "        res = str(eval(equ))\n",
        "        sample.append((equ,res))\n",
        "        \n",
        "    return sample"
      ],
      "execution_count": 0,
      "outputs": []
    },
    {
      "cell_type": "markdown",
      "metadata": {
        "id": "SFyRwCJG91gX",
        "colab_type": "text"
      },
      "source": [
        "To check the correctness of your implementation, use *test_generate_equations* function:"
      ]
    },
    {
      "cell_type": "code",
      "metadata": {
        "id": "6O2HKRfW91ga",
        "colab_type": "code",
        "colab": {}
      },
      "source": [
        "def test_generate_equations():\n",
        "    allowed_operators = ['+', '-']\n",
        "    dataset_size = 10\n",
        "    for (input_, output_) in generate_equations(allowed_operators, dataset_size, 0, 100):\n",
        "        if not (type(input_) is str and type(output_) is str):\n",
        "            return \"Both parts should be strings.\"\n",
        "        if eval(input_) != int(output_):\n",
        "            return \"The (equation: {!r}, solution: {!r}) pair is incorrect.\".format(input_, output_)\n",
        "    return \"Tests passed.\""
      ],
      "execution_count": 0,
      "outputs": []
    },
    {
      "cell_type": "code",
      "metadata": {
        "id": "2Heh0hUj91go",
        "colab_type": "code",
        "colab": {
          "base_uri": "https://localhost:8080/",
          "height": 35
        },
        "outputId": "2328495b-a838-4985-ce39-2b60082d6dab"
      },
      "source": [
        "print(test_generate_equations())"
      ],
      "execution_count": 5,
      "outputs": [
        {
          "output_type": "stream",
          "text": [
            "Tests passed.\n"
          ],
          "name": "stdout"
        }
      ]
    },
    {
      "cell_type": "markdown",
      "metadata": {
        "id": "Cn6azyYU91gu",
        "colab_type": "text"
      },
      "source": [
        "Finally, we are ready to generate the train and test data for the neural network:"
      ]
    },
    {
      "cell_type": "code",
      "metadata": {
        "id": "BLMW0nMG91gw",
        "colab_type": "code",
        "colab": {}
      },
      "source": [
        "from sklearn.model_selection import train_test_split"
      ],
      "execution_count": 0,
      "outputs": []
    },
    {
      "cell_type": "code",
      "metadata": {
        "id": "In5clcFC91g5",
        "colab_type": "code",
        "colab": {}
      },
      "source": [
        "allowed_operators = ['+', '-']\n",
        "dataset_size = 100000\n",
        "data = generate_equations(allowed_operators, dataset_size, min_value=0, max_value=9999)\n",
        "\n",
        "train_set, test_set = train_test_split(data, test_size=0.2, random_state=42)"
      ],
      "execution_count": 0,
      "outputs": []
    },
    {
      "cell_type": "markdown",
      "metadata": {
        "id": "KxYNkv3t91hA",
        "colab_type": "text"
      },
      "source": [
        "## Prepare data for the neural network\n",
        "\n",
        "The next stage of data preparation is creating mappings of the characters to their indices in some vocabulary. Since in our task we already know which symbols will appear in the inputs and outputs, generating the vocabulary is a simple step.\n",
        "\n",
        "#### How to create dictionaries for other task\n",
        "\n",
        "First of all, you need to understand what is the basic unit of the sequence in your task. In our case, we operate on symbols and the basic unit is a symbol. The number of symbols is small, so we don't need to think about filtering/normalization steps. However, in other tasks, the basic unit is often a word, and in this case the mapping would be *word $\\to$ integer*. The number of words might be huge, so it would be reasonable to filter them, for example, by frequency and leave only the frequent ones. Other strategies that your should consider are: data normalization (lowercasing, tokenization, how to consider punctuation marks), separate vocabulary for input and for output (e.g. for machine translation), some specifics of the task."
      ]
    },
    {
      "cell_type": "code",
      "metadata": {
        "id": "ZzFpIQtH91hC",
        "colab_type": "code",
        "colab": {}
      },
      "source": [
        "word2id = {symbol:i for i, symbol in enumerate('#^$+-1234567890')}\n",
        "id2word = {i:symbol for symbol, i in word2id.items()}"
      ],
      "execution_count": 0,
      "outputs": []
    },
    {
      "cell_type": "markdown",
      "metadata": {
        "id": "r-SWR3Ni91hK",
        "colab_type": "text"
      },
      "source": [
        "#### Special symbols"
      ]
    },
    {
      "cell_type": "code",
      "metadata": {
        "id": "FrAM22X991hL",
        "colab_type": "code",
        "colab": {}
      },
      "source": [
        "start_symbol = '^'\n",
        "end_symbol = '$'\n",
        "padding_symbol = '#'"
      ],
      "execution_count": 0,
      "outputs": []
    },
    {
      "cell_type": "markdown",
      "metadata": {
        "id": "0rzVIUcR91hU",
        "colab_type": "text"
      },
      "source": [
        "You could notice that we have added 3 special symbols: '^', '\\$' and '#':\n",
        "- '^' symbol will be passed to the network to indicate the beginning of the decoding procedure. We will discuss this one later in more details.\n",
        "- '\\$' symbol will be used to indicate the *end of a string*, both for input and output sequences. \n",
        "- '#' symbol will be used as a *padding* character to make lengths of all strings equal within one training batch.\n",
        "\n",
        "People have a bit different habits when it comes to special symbols in encoder-decoder networks, so don't get too much confused if you come across other variants in tutorials you read. "
      ]
    },
    {
      "cell_type": "markdown",
      "metadata": {
        "id": "14vohb5x91hW",
        "colab_type": "text"
      },
      "source": [
        "#### Padding"
      ]
    },
    {
      "cell_type": "markdown",
      "metadata": {
        "id": "CUcplwnz91hZ",
        "colab_type": "text"
      },
      "source": [
        "When vocabularies are ready, we need to be able to convert a sentence to a list of vocabulary word indices and back. At the same time, let's care about padding. We are going to preprocess each sequence from the input (and output ground truth) in such a way that:\n",
        "- it has a predefined length *padded_len*\n",
        "- it is probably cut off or padded with the *padding symbol* '#'\n",
        "- it *always* ends with the *end symbol* '$'\n",
        "\n",
        "We will treat the original characters of the sequence **and the end symbol** as the valid part of the input. We will store *the actual length* of the sequence, which includes the end symbol, but does not include the padding symbols. "
      ]
    },
    {
      "cell_type": "markdown",
      "metadata": {
        "id": "pImzbTIR91ha",
        "colab_type": "text"
      },
      "source": [
        " Now you need to implement the function *sentence_to_ids* that does the described job. "
      ]
    },
    {
      "cell_type": "code",
      "metadata": {
        "id": "fT7G5m_w91hb",
        "colab_type": "code",
        "colab": {}
      },
      "source": [
        "def sentence_to_ids(sentence, word2id, padded_len):\n",
        "    \"\"\" Converts a sequence of symbols to a padded sequence of their ids.\n",
        "    \n",
        "      sentence: a string, input/output sequence of symbols.\n",
        "      word2id: a dict, a mapping from original symbols to ids.\n",
        "      padded_len: an integer, a desirable length of the sequence.\n",
        "\n",
        "      result: a tuple of (a list of ids, an actual length of sentence).\n",
        "    \"\"\"\n",
        "    ######### YOUR CODE HERE #############\n",
        "    length = min(padded_len - 1, len(sentence))\n",
        "    sent_len =  length + 1 \n",
        "    ######### YOUR CODE HERE #############\n",
        "    ids = [word2id[word] for word in sentence] \n",
        "    ps = max(0, padded_len - len(ids) - 1)  # pad size\n",
        "    sent_ids = ids[:padded_len - 1] + [word2id[end_symbol]] + [word2id[padding_symbol]] * ps\n",
        "    \n",
        "    return sent_ids, sent_len"
      ],
      "execution_count": 0,
      "outputs": []
    },
    {
      "cell_type": "markdown",
      "metadata": {
        "id": "izJSv_jt91hf",
        "colab_type": "text"
      },
      "source": [
        "Check that your implementation is correct:"
      ]
    },
    {
      "cell_type": "code",
      "metadata": {
        "id": "bZ_RYy0x91hg",
        "colab_type": "code",
        "colab": {}
      },
      "source": [
        "def test_sentence_to_ids():\n",
        "    sentences = [(\"123+123\", 7), (\"123+123\", 8), (\"123+123\", 10)]\n",
        "    expected_output = [([5, 6, 7, 3, 5, 6, 2], 7), \n",
        "                       ([5, 6, 7, 3, 5, 6, 7, 2], 8), \n",
        "                       ([5, 6, 7, 3, 5, 6, 7, 2, 0, 0], 8)] \n",
        "    for (sentence, padded_len), (sentence_ids, expected_length) in zip(sentences, expected_output):\n",
        "        output, length = sentence_to_ids(sentence, word2id, padded_len)\n",
        "        if output != sentence_ids:\n",
        "            return(\"Convertion of '{}' for padded_len={} to {} is incorrect.\".format(\n",
        "                sentence, padded_len, output))\n",
        "        if length != expected_length:\n",
        "            return(\"Convertion of '{}' for padded_len={} has incorrect actual length {}.\".format(\n",
        "                sentence, padded_len, length))\n",
        "    return(\"Tests passed.\")"
      ],
      "execution_count": 0,
      "outputs": []
    },
    {
      "cell_type": "code",
      "metadata": {
        "id": "CHb-qVI891ho",
        "colab_type": "code",
        "colab": {
          "base_uri": "https://localhost:8080/",
          "height": 35
        },
        "outputId": "2f238735-7885-470f-81cf-e9f57811a38b"
      },
      "source": [
        "print(test_sentence_to_ids())"
      ],
      "execution_count": 12,
      "outputs": [
        {
          "output_type": "stream",
          "text": [
            "Tests passed.\n"
          ],
          "name": "stdout"
        }
      ]
    },
    {
      "cell_type": "markdown",
      "metadata": {
        "id": "P8Iy3SiV91hu",
        "colab_type": "text"
      },
      "source": [
        "We also need to be able to get back from indices to symbols:"
      ]
    },
    {
      "cell_type": "code",
      "metadata": {
        "id": "25eaUt_G91hu",
        "colab_type": "code",
        "colab": {}
      },
      "source": [
        "def ids_to_sentence(ids, id2word):\n",
        "    \"\"\" Converts a sequence of ids to a sequence of symbols.\n",
        "    \n",
        "          ids: a list, indices for the padded sequence.\n",
        "          id2word:  a dict, a mapping from ids to original symbols.\n",
        "\n",
        "          result: a list of symbols.\n",
        "    \"\"\"\n",
        " \n",
        "    return [id2word[i] for i in ids] "
      ],
      "execution_count": 0,
      "outputs": []
    },
    {
      "cell_type": "markdown",
      "metadata": {
        "id": "LnEo26et91h0",
        "colab_type": "text"
      },
      "source": [
        "#### Generating batches"
      ]
    },
    {
      "cell_type": "markdown",
      "metadata": {
        "id": "kXsxWhXX91h2",
        "colab_type": "text"
      },
      "source": [
        "The final step of data preparation is a function that transforms a batch of sentences to a list of lists of indices. "
      ]
    },
    {
      "cell_type": "code",
      "metadata": {
        "id": "IRfj_d9891h4",
        "colab_type": "code",
        "colab": {}
      },
      "source": [
        "def batch_to_ids(sentences, word2id, max_len):\n",
        "    \"\"\"Prepares batches of indices. \n",
        "    \n",
        "       Sequences are padded to match the longest sequence in the batch,\n",
        "       if it's longer than max_len, then max_len is used instead.\n",
        "\n",
        "        sentences: a list of strings, original sequences.\n",
        "        word2id: a dict, a mapping from original symbols to ids.\n",
        "        max_len: an integer, max len of sequences allowed.\n",
        "\n",
        "        result: a list of lists of ids, a list of actual lengths.\n",
        "    \"\"\"\n",
        "    \n",
        "    max_len_in_batch = min(max(len(s) for s in sentences) + 1, max_len)\n",
        "    batch_ids, batch_ids_len = [], []\n",
        "    for sentence in sentences:\n",
        "        ids, ids_len = sentence_to_ids(sentence, word2id, max_len_in_batch)\n",
        "        batch_ids.append(ids)\n",
        "        batch_ids_len.append(ids_len)\n",
        "    return batch_ids, batch_ids_len"
      ],
      "execution_count": 0,
      "outputs": []
    },
    {
      "cell_type": "markdown",
      "metadata": {
        "id": "pnaiYBxu91h9",
        "colab_type": "text"
      },
      "source": [
        "The function *generate_batches* will help to generate batches with defined size from given samples."
      ]
    },
    {
      "cell_type": "code",
      "metadata": {
        "id": "2MARpsbG91h_",
        "colab_type": "code",
        "colab": {}
      },
      "source": [
        "def generate_batches(samples, batch_size=64):\n",
        "    X, Y = [], []\n",
        "    for i, (x, y) in enumerate(samples, 1):\n",
        "        X.append(x)\n",
        "        Y.append(y)\n",
        "        if i % batch_size == 0:\n",
        "            yield X, Y\n",
        "            X, Y = [], []\n",
        "    if X and Y:\n",
        "        yield X, Y"
      ],
      "execution_count": 0,
      "outputs": []
    },
    {
      "cell_type": "markdown",
      "metadata": {
        "id": "_2WmMC3e91iD",
        "colab_type": "text"
      },
      "source": [
        "To illustrate the result of the implemented functions, run the following cell:"
      ]
    },
    {
      "cell_type": "code",
      "metadata": {
        "id": "f5rR1pt291iE",
        "colab_type": "code",
        "colab": {
          "base_uri": "https://localhost:8080/",
          "height": 72
        },
        "outputId": "b91700d4-553e-4764-a1ab-74fa77b48233"
      },
      "source": [
        "sentences = train_set[0]\n",
        "ids, sent_lens = batch_to_ids(sentences, word2id, max_len=10)\n",
        "print('Input:', sentences)\n",
        "print('Ids: {}\\nSentences lengths: {}'.format(ids, sent_lens))"
      ],
      "execution_count": 16,
      "outputs": [
        {
          "output_type": "stream",
          "text": [
            "Input: ('3588-5621', '-2033')\n",
            "Ids: [[7, 9, 12, 12, 4, 9, 10, 6, 5, 2], [4, 6, 14, 7, 7, 2, 0, 0, 0, 0]]\n",
            "Sentences lengths: [10, 6]\n"
          ],
          "name": "stdout"
        }
      ]
    },
    {
      "cell_type": "markdown",
      "metadata": {
        "id": "ZfVbqiTo91iL",
        "colab_type": "text"
      },
      "source": [
        "## Encoder-Decoder architecture\n",
        "\n",
        "Encoder-Decoder is a successful architecture for Seq2Seq tasks with different lengths of input and output sequences. The main idea is to use two recurrent neural networks, where the first neural network *encodes* the input sequence into a real-valued vector and then the second neural network *decodes* this vector into the output sequence. While building the neural network, we will specify some particular characteristics of this architecture."
      ]
    },
    {
      "cell_type": "code",
      "metadata": {
        "id": "pUafBz3L91iL",
        "colab_type": "code",
        "colab": {}
      },
      "source": [
        "import tensorflow as tf"
      ],
      "execution_count": 0,
      "outputs": []
    },
    {
      "cell_type": "markdown",
      "metadata": {
        "id": "DdTARiib91iQ",
        "colab_type": "text"
      },
      "source": [
        "Let us use TensorFlow building blocks to specify the network architecture."
      ]
    },
    {
      "cell_type": "code",
      "metadata": {
        "id": "iaDvCzFh91iS",
        "colab_type": "code",
        "colab": {}
      },
      "source": [
        "class Seq2SeqModel(object):\n",
        "    pass"
      ],
      "execution_count": 0,
      "outputs": []
    },
    {
      "cell_type": "markdown",
      "metadata": {
        "id": "SI2Bksbq91iV",
        "colab_type": "text"
      },
      "source": [
        "First, we need to create [placeholders](https://www.tensorflow.org/api_guides/python/io_ops#Placeholders) to specify what data we are going to feed into the network during the execution time. For this task we will need:\n",
        " - *input_batch* — sequences of sentences (the shape will equal to [batch_size, max_sequence_len_in_batch]);\n",
        " - *input_batch_lengths* — lengths of not padded sequences (the shape equals to [batch_size]);\n",
        " - *ground_truth* — sequences of groundtruth (the shape will equal to [batch_size, max_sequence_len_in_batch]);\n",
        " - *ground_truth_lengths* — lengths of not padded groundtruth sequences (the shape equals to [batch_size]);\n",
        " - *dropout_ph* — dropout keep probability; this placeholder has a predifined value 1;\n",
        " - *learning_rate_ph* — learning rate."
      ]
    },
    {
      "cell_type": "code",
      "metadata": {
        "id": "y1hBOAtK91iW",
        "colab_type": "code",
        "colab": {}
      },
      "source": [
        "def declare_placeholders(self):\n",
        "    \"\"\"Specifies placeholders for the model.\"\"\"\n",
        "    \n",
        "    # Placeholders for input and its actual lengths.\n",
        "    self.input_batch = tf.placeholder(shape=(None, None), dtype=tf.int32, name='input_batch')\n",
        "    self.input_batch_lengths = tf.placeholder(shape=(None, ), dtype=tf.int32, name='input_batch_lengths')\n",
        "    \n",
        "    # Placeholders for groundtruth and its actual lengths.\n",
        "    self.ground_truth = tf.placeholder(shape=(None, None), dtype=tf.int32, name='ground_truth') ######### YOUR CODE HERE #############\n",
        "    self.ground_truth_lengths = tf.placeholder(shape=(None, ), dtype=tf.int32, name='ground_truth_lengths') ######### YOUR CODE HERE #############\n",
        "        \n",
        "    self.dropout_ph = tf.placeholder_with_default(tf.cast(1.0, tf.float32), shape=[])\n",
        "    self.learning_rate_ph = tf.placeholder(dtype=tf.float32, shape=[]) ######### YOUR CODE HERE ############# "
      ],
      "execution_count": 0,
      "outputs": []
    },
    {
      "cell_type": "code",
      "metadata": {
        "id": "PJagdpMQ91ib",
        "colab_type": "code",
        "colab": {}
      },
      "source": [
        "Seq2SeqModel.__declare_placeholders = classmethod(declare_placeholders)"
      ],
      "execution_count": 0,
      "outputs": []
    },
    {
      "cell_type": "markdown",
      "metadata": {
        "id": "DB_EY8vt91ih",
        "colab_type": "text"
      },
      "source": [
        "Now, let us specify the layers of the neural network. First, we need to prepare an embedding matrix. Since we use the same vocabulary for input and output, we need only one such matrix. For tasks with different vocabularies there would be multiple embedding layers.\n",
        "- Create embeddings matrix with [tf.Variable](https://www.tensorflow.org/api_docs/python/tf/Variable). Specify its name, type (tf.float32), and initialize with random values.\n",
        "- Perform [embeddings lookup](https://www.tensorflow.org/api_docs/python/tf/nn/embedding_lookup) for a given input batch."
      ]
    },
    {
      "cell_type": "code",
      "metadata": {
        "id": "eUqmanG591ij",
        "colab_type": "code",
        "colab": {}
      },
      "source": [
        "def create_embeddings(self, vocab_size, embeddings_size):\n",
        "    \"\"\"Specifies embeddings layer and embeds an input batch.\"\"\"\n",
        "     \n",
        "    random_initializer = tf.random_uniform((vocab_size, embeddings_size), -1.0, 1.0)\n",
        "    self.embeddings = tf.Variable(random_initializer, dtype=tf.float32, name='embeddings_matrix') ######### YOUR CODE HERE ############# \n",
        "    \n",
        "    # Perform embeddings lookup for self.input_batch. \n",
        "    self.input_batch_embedded = tf.nn.embedding_lookup(self.embeddings, self.input_batch) ######### YOUR CODE HERE ############# "
      ],
      "execution_count": 0,
      "outputs": []
    },
    {
      "cell_type": "code",
      "metadata": {
        "id": "hWxJ3uhF91io",
        "colab_type": "code",
        "colab": {}
      },
      "source": [
        "Seq2SeqModel.__create_embeddings = classmethod(create_embeddings)"
      ],
      "execution_count": 0,
      "outputs": []
    },
    {
      "cell_type": "markdown",
      "metadata": {
        "id": "aydHu4aI91ix",
        "colab_type": "text"
      },
      "source": [
        "#### Encoder\n",
        "\n",
        "The first RNN of the current architecture is called an *encoder* and serves for encoding an input sequence to a real-valued vector. Input of this RNN is an embedded input batch. Since sentences in the same batch could have different actual lengths, we also provide input lengths to avoid unnecessary computations. The final encoder state will be passed to the second RNN (decoder), which we will create soon. \n",
        "\n",
        "- TensorFlow provides a number of [RNN cells](https://www.tensorflow.org/api_guides/python/contrib.rnn#Core_RNN_Cells_for_use_with_TensorFlow_s_core_RNN_methods) ready for use. We suggest that you use [GRU cell](https://www.tensorflow.org/api_docs/python/tf/contrib/rnn/GRUCell), but you can also experiment with other types. \n",
        "- Wrap your cells with [DropoutWrapper](https://www.tensorflow.org/api_docs/python/tf/contrib/rnn/DropoutWrapper). Dropout is an important regularization technique for neural networks. Specify input keep probability using the dropout placeholder that we created before.\n",
        "- Combine the defined encoder cells with [Dynamic RNN](https://www.tensorflow.org/api_docs/python/tf/nn/dynamic_rnn). Use the embedded input batches and their lengths here.\n",
        "- Use *dtype=tf.float32* everywhere."
      ]
    },
    {
      "cell_type": "code",
      "metadata": {
        "id": "xWrXimDH91i0",
        "colab_type": "code",
        "colab": {}
      },
      "source": [
        "def build_encoder(self, hidden_size):\n",
        "    \"\"\"Specifies encoder architecture and computes its output.\"\"\"\n",
        "    \n",
        "    # Create GRUCell with dropout.\n",
        "    ######### YOUR CODE HERE #############\n",
        "    encoder_cell = tf.nn.rnn_cell.DropoutWrapper(tf.nn.rnn_cell.GRUCell(hidden_size), \n",
        "                                                 dtype = tf.float32, \n",
        "                                                 input_keep_prob = self.dropout_ph, \n",
        "                                                 output_keep_prob = self.dropout_ph)\n",
        "    \n",
        "    # Create RNN with the predefined cell.\n",
        "    ######### YOUR CODE HERE #############\n",
        "    _, self.final_encoder_state = tf.nn.dynamic_rnn(encoder_cell, self.input_batch_embedded, \n",
        "                                                    dtype = tf.float32, \n",
        "                                                    sequence_length = self.input_batch_lengths)"
      ],
      "execution_count": 0,
      "outputs": []
    },
    {
      "cell_type": "code",
      "metadata": {
        "id": "PhUgClvb91i3",
        "colab_type": "code",
        "colab": {}
      },
      "source": [
        "Seq2SeqModel.__build_encoder = classmethod(build_encoder)"
      ],
      "execution_count": 0,
      "outputs": []
    },
    {
      "cell_type": "markdown",
      "metadata": {
        "id": "akpYCQ6c91i8",
        "colab_type": "text"
      },
      "source": [
        "#### Decoder\n",
        "\n",
        "The second RNN is called a *decoder* and serves for generating the output sequence. In the simple seq2seq arcitecture, the input sequence is provided to the decoder only as the final state of the encoder. Obviously, it is a bottleneck and [Attention techniques](https://www.tensorflow.org/tutorials/seq2seq#background_on_the_attention_mechanism) can help to overcome it. So far, we do not need them to make our calculator work, but this would be a necessary ingredient for more advanced tasks. \n",
        "\n",
        "During training, decoder also uses information about the true output. It is feeded in as input symbol by symbol. However, during the prediction stage (which is called *inference* in this architecture), the decoder can only use its own generated output from the previous step to feed it in at the next step. Because of this difference (*training* vs *inference*), we will create two distinct instances, which will serve for the described scenarios.\n",
        "\n",
        "The picture below illustrates the point. It also shows our work with the special characters, e.g. look how the start symbol `^` is used. The transparent parts are ignored. In decoder, it is masked out in the loss computation. In encoder, the green state is considered as final and passed to the decoder. "
      ]
    },
    {
      "cell_type": "markdown",
      "metadata": {
        "id": "rlJm3YvM91i9",
        "colab_type": "text"
      },
      "source": [
        "<img src=\"https://github.com/hse-aml/natural-language-processing/blob/master/week4/encoder-decoder-pic.png?raw=1\" style=\"width: 500px;\">"
      ]
    },
    {
      "cell_type": "markdown",
      "metadata": {
        "id": "XcG2rhdA91i9",
        "colab_type": "text"
      },
      "source": [
        "Now, it's time to implement the decoder:\n",
        " - First, we should create two [helpers](https://www.tensorflow.org/api_guides/python/contrib.seq2seq#Dynamic_Decoding). These classes help to determine the behaviour of the decoder. During the training time, we will use [TrainingHelper](https://www.tensorflow.org/api_docs/python/tf/contrib/seq2seq/TrainingHelper). For the inference we recommend to use [GreedyEmbeddingHelper](https://www.tensorflow.org/api_docs/python/tf/contrib/seq2seq/GreedyEmbeddingHelper).\n",
        " - To share all parameters during training and inference, we use one scope and set the flag 'reuse' to True at inference time. You might be interested to know more about how [variable scopes](https://www.tensorflow.org/programmers_guide/variables) work in TF. \n",
        " - To create the decoder itself, we will use [BasicDecoder](https://www.tensorflow.org/api_docs/python/tf/contrib/seq2seq/BasicDecoder) class. As previously, you should choose some RNN cell, e.g. GRU cell. To turn hidden states into logits, we will need a projection layer. One of the simple solutions is using [OutputProjectionWrapper](https://www.tensorflow.org/api_docs/python/tf/contrib/rnn/OutputProjectionWrapper).\n",
        " - For getting the predictions, it will be convinient to use [dynamic_decode](https://www.tensorflow.org/api_docs/python/tf/contrib/seq2seq/dynamic_decode). This function uses the provided decoder to perform decoding."
      ]
    },
    {
      "cell_type": "code",
      "metadata": {
        "id": "0aZ7oVhL91i-",
        "colab_type": "code",
        "colab": {}
      },
      "source": [
        "def build_decoder(self, hidden_size, vocab_size, max_iter, start_symbol_id, end_symbol_id):\n",
        "    \"\"\"Specifies decoder architecture and computes the output.\n",
        "    \n",
        "        Uses different helpers:\n",
        "          - for train: feeding ground truth\n",
        "          - for inference: feeding generated output\n",
        "\n",
        "        As a result, self.train_outputs and self.infer_outputs are created. \n",
        "        Each of them contains two fields:\n",
        "          rnn_output (predicted logits)\n",
        "          sample_id (predictions).\n",
        "\n",
        "    \"\"\"\n",
        "    \n",
        "    # Use start symbols as the decoder inputs at the first time step.\n",
        "    batch_size = tf.shape(self.input_batch)[0]\n",
        "    start_tokens = tf.fill([batch_size], start_symbol_id)\n",
        "    ground_truth_as_input = tf.concat([tf.expand_dims(start_tokens, 1), self.ground_truth], 1)\n",
        "    \n",
        "    # Use the embedding layer defined before to lookup embedings for ground_truth_as_input. \n",
        "    self.ground_truth_embedded = tf.nn.embedding_lookup(self.embeddings, ground_truth_as_input) ######### YOUR CODE HERE #############\n",
        "     \n",
        "    # Create TrainingHelper for the train stage.\n",
        "    train_helper = tf.contrib.seq2seq.TrainingHelper(self.ground_truth_embedded, \n",
        "                                                     self.ground_truth_lengths)\n",
        "    \n",
        "    # Create GreedyEmbeddingHelper for the inference stage.\n",
        "    # You should provide the embedding layer, start_tokens and index of the end symbol.\n",
        "    ######### YOUR CODE HERE #############\n",
        "    infer_helper = tf.contrib.seq2seq.GreedyEmbeddingHelper(self.embeddings, start_tokens, end_symbol_id)\n",
        "    \n",
        "  \n",
        "    def decode(helper, scope, reuse=None):\n",
        "        \"\"\"Creates decoder and return the results of the decoding with a given helper.\"\"\"\n",
        "        \n",
        "        with tf.variable_scope(scope, reuse=reuse):\n",
        "            # Create GRUCell with dropout. Do not forget to set the reuse flag properly.\n",
        "            ######### YOUR CODE HERE #############\n",
        "            decoder_cell = tf.nn.rnn_cell.DropoutWrapper(tf.contrib.rnn.GRUCell(hidden_size, reuse = reuse), \n",
        "                                                         dtype = tf.float32, \n",
        "                                                         input_keep_prob = self.dropout_ph, \n",
        "                                                         output_keep_prob = self.dropout_ph)\n",
        "            \n",
        "            # Create a projection wrapper.\n",
        "            decoder_cell = tf.contrib.rnn.OutputProjectionWrapper(decoder_cell, vocab_size, reuse=reuse)\n",
        "            \n",
        "            # Create BasicDecoder, pass the defined cell, a helper, and initial state.\n",
        "            # The initial state should be equal to the final state of the encoder!\n",
        "            ######### YOUR CODE HERE #############\n",
        "            decoder = tf.contrib.seq2seq.BasicDecoder(cell = decoder_cell, \n",
        "                                                      helper = helper, \n",
        "                                                      initial_state = self.final_encoder_state) \n",
        "            \n",
        "            # The first returning argument of dynamic_decode contains two fields:\n",
        "            #   rnn_output (predicted logits)\n",
        "            #   sample_id (predictions)\n",
        "            outputs, _, _ = tf.contrib.seq2seq.dynamic_decode(decoder=decoder, maximum_iterations=max_iter, \n",
        "                                                              output_time_major=False, impute_finished=True)\n",
        "\n",
        "            return outputs\n",
        "        \n",
        "    self.train_outputs = decode(train_helper, 'decode')\n",
        "    self.infer_outputs = decode(infer_helper, 'decode', reuse=True)"
      ],
      "execution_count": 0,
      "outputs": []
    },
    {
      "cell_type": "code",
      "metadata": {
        "id": "fhsFUwdL91jB",
        "colab_type": "code",
        "colab": {}
      },
      "source": [
        "Seq2SeqModel.__build_decoder = classmethod(build_decoder)"
      ],
      "execution_count": 0,
      "outputs": []
    },
    {
      "cell_type": "markdown",
      "metadata": {
        "id": "we1p_nXh91jF",
        "colab_type": "text"
      },
      "source": [
        "In this task we will use [sequence_loss](https://www.tensorflow.org/api_docs/python/tf/contrib/seq2seq/sequence_loss), which is a weighted cross-entropy loss for a sequence of logits. Take a moment to understand, what is your train logits and targets. Also note, that we do not want to take into account loss terms coming from padding symbols, so we will mask them out using weights.  "
      ]
    },
    {
      "cell_type": "code",
      "metadata": {
        "id": "-F3hgqTN91jF",
        "colab_type": "code",
        "colab": {}
      },
      "source": [
        "def compute_loss(self):\n",
        "    \"\"\"Computes sequence loss (masked cross-entopy loss with logits).\"\"\"\n",
        "    \n",
        "    weights = tf.cast(tf.sequence_mask(self.ground_truth_lengths), dtype=tf.float32)\n",
        "    \n",
        "    ######### YOUR CODE HERE #############\n",
        "    self.loss = tf.contrib.seq2seq.sequence_loss(self.train_outputs.rnn_output, \n",
        "                                                 self.ground_truth, weights) "
      ],
      "execution_count": 0,
      "outputs": []
    },
    {
      "cell_type": "code",
      "metadata": {
        "id": "ky9EPQIW91jI",
        "colab_type": "code",
        "colab": {}
      },
      "source": [
        "Seq2SeqModel.__compute_loss = classmethod(compute_loss)"
      ],
      "execution_count": 0,
      "outputs": []
    },
    {
      "cell_type": "markdown",
      "metadata": {
        "id": "aHHovPnA91jM",
        "colab_type": "text"
      },
      "source": [
        "The last thing to specify is the optimization of the defined loss. \n",
        "We suggest that you use [optimize_loss](https://www.tensorflow.org/api_docs/python/tf/contrib/layers/optimize_loss) with Adam optimizer and a learning rate from the corresponding placeholder. You might also need to pass global step (e.g. as tf.train.get_global_step()) and clip gradients by 1.0."
      ]
    },
    {
      "cell_type": "code",
      "metadata": {
        "id": "mtzxIP-y91jN",
        "colab_type": "code",
        "colab": {}
      },
      "source": [
        "def perform_optimization(self):\n",
        "    \"\"\"Specifies train_op that optimizes self.loss.\"\"\"\n",
        "    \n",
        "    ######### YOUR CODE HERE #############\n",
        "    self.train_op = tf.contrib.layers.optimize_loss(self.loss, \n",
        "                                                    global_step = tf.train.get_global_step(), \n",
        "                                                    learning_rate = self.learning_rate_ph, \n",
        "                                                    optimizer = 'Adam', \n",
        "                                                    clip_gradients = 1.0)"
      ],
      "execution_count": 0,
      "outputs": []
    },
    {
      "cell_type": "code",
      "metadata": {
        "id": "KZXFsXfG91jQ",
        "colab_type": "code",
        "colab": {}
      },
      "source": [
        "Seq2SeqModel.__perform_optimization = classmethod(perform_optimization)"
      ],
      "execution_count": 0,
      "outputs": []
    },
    {
      "cell_type": "markdown",
      "metadata": {
        "id": "N6DhjL6H91jT",
        "colab_type": "text"
      },
      "source": [
        "Congratulations! You have specified all the parts of your network. You may have noticed, that we didn't deal with any real data yet, so what you have written is just recipies on how the network should function.\n",
        "Now we will put them to the constructor of our Seq2SeqModel class to use it in the next section. "
      ]
    },
    {
      "cell_type": "code",
      "metadata": {
        "id": "odxbULcH91jT",
        "colab_type": "code",
        "colab": {}
      },
      "source": [
        "def init_model(self, vocab_size, embeddings_size, hidden_size, \n",
        "               max_iter, start_symbol_id, end_symbol_id, padding_symbol_id):\n",
        "    \n",
        "    self.__declare_placeholders()\n",
        "    self.__create_embeddings(vocab_size, embeddings_size)\n",
        "    self.__build_encoder(hidden_size)\n",
        "    self.__build_decoder(hidden_size, vocab_size, max_iter, start_symbol_id, end_symbol_id)\n",
        "    \n",
        "    # Compute loss and back-propagate.\n",
        "    self.__compute_loss()\n",
        "    self.__perform_optimization()\n",
        "    \n",
        "    # Get predictions for evaluation.\n",
        "    self.train_predictions = self.train_outputs.sample_id\n",
        "    self.infer_predictions = self.infer_outputs.sample_id"
      ],
      "execution_count": 0,
      "outputs": []
    },
    {
      "cell_type": "code",
      "metadata": {
        "id": "cdlXnnax91jX",
        "colab_type": "code",
        "colab": {}
      },
      "source": [
        "Seq2SeqModel.__init__ = classmethod(init_model)"
      ],
      "execution_count": 0,
      "outputs": []
    },
    {
      "cell_type": "markdown",
      "metadata": {
        "id": "03p6kY-h91jj",
        "colab_type": "text"
      },
      "source": [
        "## Train the network and predict output\n",
        "\n",
        "[Session.run](https://www.tensorflow.org/api_docs/python/tf/Session#run) is a point which initiates computations in the graph that we have defined. To train the network, we need to compute *self.train_op*. To predict output, we just need to compute *self.infer_predictions*. In any case, we need to feed actual data through the placeholders that we defined above. "
      ]
    },
    {
      "cell_type": "code",
      "metadata": {
        "id": "_F1mhWWE91jk",
        "colab_type": "code",
        "colab": {}
      },
      "source": [
        "def train_on_batch(self, session, X, X_seq_len, Y, Y_seq_len, learning_rate, dropout_keep_probability):\n",
        "    feed_dict = {\n",
        "            self.input_batch: X,\n",
        "            self.input_batch_lengths: X_seq_len,\n",
        "            self.ground_truth: Y,\n",
        "            self.ground_truth_lengths: Y_seq_len,\n",
        "            self.learning_rate_ph: learning_rate,\n",
        "            self.dropout_ph: dropout_keep_probability\n",
        "        }\n",
        "    pred, loss, _ = session.run([\n",
        "            self.train_predictions,\n",
        "            self.loss,\n",
        "            self.train_op], feed_dict=feed_dict)\n",
        "    return pred, loss"
      ],
      "execution_count": 0,
      "outputs": []
    },
    {
      "cell_type": "code",
      "metadata": {
        "id": "3jlkElRD91jp",
        "colab_type": "code",
        "colab": {}
      },
      "source": [
        "Seq2SeqModel.train_on_batch = classmethod(train_on_batch)"
      ],
      "execution_count": 0,
      "outputs": []
    },
    {
      "cell_type": "markdown",
      "metadata": {
        "id": "tmdUV_nk91js",
        "colab_type": "text"
      },
      "source": [
        "We implemented two prediction functions: *predict_for_batch* and *predict_for_batch_with_loss*. The first one allows only to predict output for some input sequence, while the second one could compute loss because we provide also ground truth values. Both these functions might be useful since the first one could be used for predicting only, and the second one is helpful for validating results on not-training data during the training."
      ]
    },
    {
      "cell_type": "code",
      "metadata": {
        "id": "FhV2FuHW91jt",
        "colab_type": "code",
        "colab": {}
      },
      "source": [
        "def predict_for_batch(self, session, X, X_seq_len):\n",
        "    feed_dict = feed_dict = {self.input_batch: X, \n",
        "                             self.input_batch_lengths: X_seq_len, \n",
        "                             self.dropout_ph: 1.0}  ######### YOUR CODE HERE #############\n",
        "    \n",
        "    pred = session.run([\n",
        "            self.infer_predictions\n",
        "        ], feed_dict=feed_dict)[0]\n",
        "    return pred\n",
        "\n",
        "def predict_for_batch_with_loss(self, session, X, X_seq_len, Y, Y_seq_len):\n",
        "    feed_dict = feed_dict = {self.input_batch: X,                 \n",
        "                             self.input_batch_lengths: X_seq_len,\n",
        "                             self.ground_truth: Y,\n",
        "                             self.ground_truth_lengths: Y_seq_len,\n",
        "                             self.dropout_ph: 1.0}   ######### YOUR CODE HERE #############\n",
        "    \n",
        "    pred, loss = session.run([\n",
        "            self.infer_predictions,\n",
        "            self.loss,\n",
        "        ], feed_dict=feed_dict)\n",
        "    return pred, loss"
      ],
      "execution_count": 0,
      "outputs": []
    },
    {
      "cell_type": "code",
      "metadata": {
        "id": "gAkbqdC691jx",
        "colab_type": "code",
        "colab": {}
      },
      "source": [
        "Seq2SeqModel.predict_for_batch = classmethod(predict_for_batch)\n",
        "Seq2SeqModel.predict_for_batch_with_loss = classmethod(predict_for_batch_with_loss)"
      ],
      "execution_count": 0,
      "outputs": []
    },
    {
      "cell_type": "markdown",
      "metadata": {
        "id": "QHrUy1i491j1",
        "colab_type": "text"
      },
      "source": [
        "## Run your experiment\n",
        "\n",
        "Create *Seq2SeqModel* model with the following parameters:\n",
        " - *vocab_size* — number of tokens;\n",
        " - *embeddings_size* — dimension of embeddings, recommended value: 20;\n",
        " - *max_iter* — maximum number of steps in decoder, recommended value: 7;\n",
        " - *hidden_size* — size of hidden layers for RNN, recommended value: 512;\n",
        " - *start_symbol_id* — an index of the start token (`^`).\n",
        " - *end_symbol_id* — an index of the end token (`$`).\n",
        " - *padding_symbol_id* — an index of the padding token (`#`).\n",
        "\n",
        "Set hyperparameters. You might want to start with the following values and see how it works:\n",
        "- *batch_size*: 128;\n",
        "- at least 10 epochs;\n",
        "- value of *learning_rate*: 0.001\n",
        "- *dropout_keep_probability* equals to 0.5 for training (typical values for dropout probability are ranging from 0.1 to 1.0); larger values correspond smaler number of dropout units;\n",
        "- *max_len*: 20."
      ]
    },
    {
      "cell_type": "code",
      "metadata": {
        "id": "4zvokaA291j1",
        "colab_type": "code",
        "colab": {}
      },
      "source": [
        "tf.reset_default_graph()\n",
        "\n",
        "model = Seq2SeqModel(vocab_size=len(word2id),\n",
        "                     embeddings_size=20, \n",
        "                     hidden_size=512, \n",
        "                     max_iter=7, \n",
        "                     start_symbol_id=word2id[start_symbol], \n",
        "                     end_symbol_id=word2id[end_symbol], \n",
        "                     padding_symbol_id=word2id[padding_symbol])  ######### YOUR CODE HERE #############\n",
        "\n",
        "batch_size = 128  ######### YOUR CODE HERE #############\n",
        "n_epochs = 10  ######### YOUR CODE HERE #############\n",
        "learning_rate = 0.001 ######### YOUR CODE HERE #############\n",
        "dropout_keep_probability = 0.5 ######### YOUR CODE HERE #############\n",
        "max_len = 20 ######### YOUR CODE HERE #############\n",
        "\n",
        "n_step = int(len(train_set) / batch_size)"
      ],
      "execution_count": 0,
      "outputs": []
    },
    {
      "cell_type": "markdown",
      "metadata": {
        "id": "gkTndg6191j3",
        "colab_type": "text"
      },
      "source": [
        "Finally, we are ready to run the training! A good indicator that everything works fine is decreasing loss during the training. You should account on the loss value equal to approximately 2.7 at the beginning of the training and near 1 after the 10th epoch."
      ]
    },
    {
      "cell_type": "code",
      "metadata": {
        "scrolled": true,
        "id": "yJED8pZK91j5",
        "colab_type": "code",
        "colab": {
          "base_uri": "https://localhost:8080/",
          "height": 1000
        },
        "outputId": "c2691b3c-3c22-41f9-b82b-8cfda06de412"
      },
      "source": [
        "session = tf.Session()\n",
        "session.run(tf.global_variables_initializer())\n",
        "            \n",
        "invalid_number_prediction_counts = []\n",
        "all_model_predictions = []\n",
        "all_ground_truth = []\n",
        "\n",
        "print('Start training... \\n')\n",
        "for epoch in range(n_epochs):  \n",
        "    random.shuffle(train_set)\n",
        "    random.shuffle(test_set)\n",
        "    \n",
        "    print('Train: epoch', epoch + 1)\n",
        "    for n_iter, (X_batch, Y_batch) in enumerate(generate_batches(train_set, batch_size=batch_size)):\n",
        "        ######################################\n",
        "        ######### YOUR CODE HERE #############\n",
        "        ######################################\n",
        "        # prepare the data (X_batch and Y_batch) for training\n",
        "        # using function batch_to_ids\n",
        "        X, X_seq_len = batch_to_ids(X_batch, word2id, max_len)\n",
        "        Y, Y_seq_len = batch_to_ids(Y_batch, word2id, max_len)\n",
        "        \n",
        "        ######### YOUR CODE HERE #############\n",
        "        predictions, loss = model.train_on_batch(session, X, X_seq_len, Y, Y_seq_len, learning_rate, dropout_keep_probability)\n",
        "        \n",
        "        if n_iter % 200 == 0:\n",
        "            print(\"Epoch: [%d/%d], step: [%d/%d], loss: %f\" % (epoch + 1, n_epochs, n_iter + 1, n_step, loss))\n",
        "                \n",
        "    X_sent, Y_sent = next(generate_batches(test_set, batch_size=batch_size))\n",
        "    ######################################\n",
        "    ######### YOUR CODE HERE #############\n",
        "    ######################################\n",
        "    # prepare test data (X_sent and Y_sent) for predicting \n",
        "    # quality and computing value of the loss function\n",
        "    # using function batch_to_ids\n",
        "    X, X_seq_len = batch_to_ids(X_sent, word2id, max_len)\n",
        "    Y, Y_seq_len = batch_to_ids(Y_sent, word2id, max_len)\n",
        "    \n",
        "    ######### YOUR CODE HERE #############\n",
        "    predictions, loss = model.predict_for_batch_with_loss(session, X, X_seq_len, Y, Y_seq_len)\n",
        "    \n",
        "    print('Test: epoch', epoch + 1, 'loss:', loss,)\n",
        "    for x, y, p  in list(zip(X, Y, predictions))[:3]:\n",
        "        print('X:',''.join(ids_to_sentence(x, id2word)))\n",
        "        print('Y:',''.join(ids_to_sentence(y, id2word)))\n",
        "        print('O:',''.join(ids_to_sentence(p, id2word)))\n",
        "        print('')\n",
        "\n",
        "    model_predictions = []\n",
        "    ground_truth = []\n",
        "    invalid_number_prediction_count = 0\n",
        "    # For the whole test set calculate ground-truth values (as integer numbers)\n",
        "    # and prediction values (also as integers) to calculate metrics.\n",
        "    # If generated by model number is not correct (e.g. '1-1'), \n",
        "    # increase invalid_number_prediction_count and don't append this and corresponding\n",
        "    # ground-truth value to the arrays.\n",
        "    for X_batch, Y_batch in generate_batches(test_set, batch_size=batch_size):\n",
        "        ######################################\n",
        "        ######### YOUR CODE HERE #############\n",
        "        ######################################\n",
        "        X, X_seq_len = batch_to_ids(X_batch, word2id, max_len)\n",
        "        Y, Y_seq_len = batch_to_ids(Y_batch, word2id, max_len)\n",
        "        pred, loss = model.predict_for_batch_with_loss(session, X, X_seq_len, Y, Y_seq_len)\n",
        "        \n",
        "        for y, p in zip(Y, pred):\n",
        "          try:\n",
        "            val_t = eval(''.join(ids_to_sentence(y, id2word)).split('$')[0])\n",
        "            val_p = eval(''.join(ids_to_sentence(p, id2word)).split('$')[0])\n",
        "            model_predictions.append(val_p)\n",
        "            ground_truth.append(val_t)\n",
        "          except:\n",
        "            invalid_number_prediction_count += 1  \n",
        "    \n",
        "    all_model_predictions.append(model_predictions)\n",
        "    all_ground_truth.append(ground_truth)\n",
        "    invalid_number_prediction_counts.append(invalid_number_prediction_count)\n",
        "            \n",
        "print('\\n...training finished.')"
      ],
      "execution_count": 46,
      "outputs": [
        {
          "output_type": "stream",
          "text": [
            "Start training... \n",
            "\n",
            "Train: epoch 1\n",
            "Epoch: [1/10], step: [1/625], loss: 2.702554\n",
            "Epoch: [1/10], step: [201/625], loss: 1.852537\n",
            "Epoch: [1/10], step: [401/625], loss: 1.749782\n",
            "Epoch: [1/10], step: [601/625], loss: 1.664351\n",
            "Test: epoch 1 loss: 1.6436628\n",
            "X: 3990-5070$\n",
            "Y: -1080$\n",
            "O: -1133$\n",
            "\n",
            "X: 3681-3448$\n",
            "Y: 233$##\n",
            "O: -1108$\n",
            "\n",
            "X: 6187-8072$\n",
            "Y: -1885$\n",
            "O: -1138$\n",
            "\n",
            "Train: epoch 2\n",
            "Epoch: [2/10], step: [1/625], loss: 1.704626\n",
            "Epoch: [2/10], step: [201/625], loss: 1.620944\n",
            "Epoch: [2/10], step: [401/625], loss: 1.557322\n",
            "Epoch: [2/10], step: [601/625], loss: 1.517345\n",
            "Test: epoch 2 loss: 1.4563411\n",
            "X: 8700-6710$\n",
            "Y: 1990$#\n",
            "O: 1044$#\n",
            "\n",
            "X: 9659-7345$\n",
            "Y: 2314$#\n",
            "O: 1244$#\n",
            "\n",
            "X: 4178+5291$\n",
            "Y: 9469$#\n",
            "O: 10077$\n",
            "\n",
            "Train: epoch 3\n",
            "Epoch: [3/10], step: [1/625], loss: 1.501424\n",
            "Epoch: [3/10], step: [201/625], loss: 1.496982\n",
            "Epoch: [3/10], step: [401/625], loss: 1.483562\n",
            "Epoch: [3/10], step: [601/625], loss: 1.421714\n",
            "Test: epoch 3 loss: 1.3737314\n",
            "X: 8680-2778$\n",
            "Y: 5902$#\n",
            "O: 5955$#\n",
            "\n",
            "X: 6992+7391$\n",
            "Y: 14383$\n",
            "O: 14266$\n",
            "\n",
            "X: 3017+982$#\n",
            "Y: 3999$#\n",
            "O: 4226$#\n",
            "\n",
            "Train: epoch 4\n",
            "Epoch: [4/10], step: [1/625], loss: 1.423618\n",
            "Epoch: [4/10], step: [201/625], loss: 1.418394\n",
            "Epoch: [4/10], step: [401/625], loss: 1.397027\n",
            "Epoch: [4/10], step: [601/625], loss: 1.348068\n",
            "Test: epoch 4 loss: 1.3257874\n",
            "X: 2438+1820$\n",
            "Y: 4258$#\n",
            "O: 4009$#\n",
            "\n",
            "X: 4427+7167$\n",
            "Y: 11594$\n",
            "O: 11757$\n",
            "\n",
            "X: 5680+5965$\n",
            "Y: 11645$\n",
            "O: 11760$\n",
            "\n",
            "Train: epoch 5\n",
            "Epoch: [5/10], step: [1/625], loss: 1.358794\n",
            "Epoch: [5/10], step: [201/625], loss: 1.335629\n",
            "Epoch: [5/10], step: [401/625], loss: 1.333993\n",
            "Epoch: [5/10], step: [601/625], loss: 1.320522\n",
            "Test: epoch 5 loss: 1.2713374\n",
            "X: 4443-4627$\n",
            "Y: -184$#\n",
            "O: -411$#\n",
            "\n",
            "X: 381+1203$#\n",
            "Y: 1584$#\n",
            "O: 1488$#\n",
            "\n",
            "X: 1303-1889$\n",
            "Y: -586$#\n",
            "O: -511$#\n",
            "\n",
            "Train: epoch 6\n",
            "Epoch: [6/10], step: [1/625], loss: 1.323881\n",
            "Epoch: [6/10], step: [201/625], loss: 1.312500\n",
            "Epoch: [6/10], step: [401/625], loss: 1.348809\n",
            "Epoch: [6/10], step: [601/625], loss: 1.325534\n",
            "Test: epoch 6 loss: 1.2357066\n",
            "X: 8424-4571$\n",
            "Y: 3853$#\n",
            "O: 3882$#\n",
            "\n",
            "X: 5317-5922$\n",
            "Y: -605$#\n",
            "O: -444$#\n",
            "\n",
            "X: 5132-6496$\n",
            "Y: -1364$\n",
            "O: -1024$\n",
            "\n",
            "Train: epoch 7\n",
            "Epoch: [7/10], step: [1/625], loss: 1.286461\n",
            "Epoch: [7/10], step: [201/625], loss: 1.297772\n",
            "Epoch: [7/10], step: [401/625], loss: 1.292362\n",
            "Epoch: [7/10], step: [601/625], loss: 1.287735\n",
            "Test: epoch 7 loss: 1.2118087\n",
            "X: 2204+8822$\n",
            "Y: 11026$\n",
            "O: 10963$\n",
            "\n",
            "X: 2446+3553$\n",
            "Y: 5999$#\n",
            "O: 6185$#\n",
            "\n",
            "X: 1577+7559$\n",
            "Y: 9136$#\n",
            "O: 9110$#\n",
            "\n",
            "Train: epoch 8\n",
            "Epoch: [8/10], step: [1/625], loss: 1.269793\n",
            "Epoch: [8/10], step: [201/625], loss: 1.237522\n",
            "Epoch: [8/10], step: [401/625], loss: 1.225539\n",
            "Epoch: [8/10], step: [601/625], loss: 1.189479\n",
            "Test: epoch 8 loss: 1.1544219\n",
            "X: 1703+3253$\n",
            "Y: 4956$#\n",
            "O: 4999$#\n",
            "\n",
            "X: 1959+1250$\n",
            "Y: 3209$#\n",
            "O: 3122$#\n",
            "\n",
            "X: 8617-2605$\n",
            "Y: 6012$#\n",
            "O: 6022$#\n",
            "\n",
            "Train: epoch 9\n",
            "Epoch: [9/10], step: [1/625], loss: 1.206476\n",
            "Epoch: [9/10], step: [201/625], loss: 1.141689\n",
            "Epoch: [9/10], step: [401/625], loss: 1.196679\n",
            "Epoch: [9/10], step: [601/625], loss: 1.096908\n",
            "Test: epoch 9 loss: 1.0237801\n",
            "X: 5849+7134$\n",
            "Y: 12983$\n",
            "O: 13035$\n",
            "\n",
            "X: 2119-7080$\n",
            "Y: -4961$\n",
            "O: -4945$\n",
            "\n",
            "X: 3666-1660$\n",
            "Y: 2006$#\n",
            "O: 1947$#\n",
            "\n",
            "Train: epoch 10\n",
            "Epoch: [10/10], step: [1/625], loss: 1.087938\n",
            "Epoch: [10/10], step: [201/625], loss: 1.085060\n",
            "Epoch: [10/10], step: [401/625], loss: 1.040363\n",
            "Epoch: [10/10], step: [601/625], loss: 1.019985\n",
            "Test: epoch 10 loss: 0.9860815\n",
            "X: 1600+3052$\n",
            "Y: 4652$#\n",
            "O: 4680$#\n",
            "\n",
            "X: 7263-5332$\n",
            "Y: 1931$#\n",
            "O: 2004$#\n",
            "\n",
            "X: 5603+6901$\n",
            "Y: 12504$\n",
            "O: 12548$\n",
            "\n",
            "\n",
            "...training finished.\n"
          ],
          "name": "stdout"
        }
      ]
    },
    {
      "cell_type": "markdown",
      "metadata": {
        "id": "VDLPf7se91j9",
        "colab_type": "text"
      },
      "source": [
        "## Evaluate results\n",
        "\n",
        "Because our task is simple and the output is straight-forward, we will use [MAE](https://en.wikipedia.org/wiki/Mean_absolute_error) metric to evaluate the trained model during the epochs. Compute the value of the metric for the output from each epoch."
      ]
    },
    {
      "cell_type": "code",
      "metadata": {
        "id": "dnu_mIKE91j-",
        "colab_type": "code",
        "colab": {}
      },
      "source": [
        "from sklearn.metrics import mean_absolute_error"
      ],
      "execution_count": 0,
      "outputs": []
    },
    {
      "cell_type": "code",
      "metadata": {
        "id": "WQ5lG-nC91kA",
        "colab_type": "code",
        "colab": {
          "base_uri": "https://localhost:8080/",
          "height": 199
        },
        "outputId": "3521051b-6a1d-4194-9781-069e557de1ec"
      },
      "source": [
        "for i, (gts, predictions, invalid_number_prediction_count) in enumerate(zip(all_ground_truth,\n",
        "                                                                            all_model_predictions,\n",
        "                                                                            invalid_number_prediction_counts), 1):\n",
        "    mae = mean_absolute_error(gts, predictions) ######### YOUR CODE HERE #############\n",
        "    print(\"Epoch: %i, MAE: %f, Invalid numbers: %i\" % (i, mae, invalid_number_prediction_count))"
      ],
      "execution_count": 48,
      "outputs": [
        {
          "output_type": "stream",
          "text": [
            "Epoch: 1, MAE: 936.250400, Invalid numbers: 0\n",
            "Epoch: 2, MAE: 491.650750, Invalid numbers: 0\n",
            "Epoch: 3, MAE: 294.792250, Invalid numbers: 0\n",
            "Epoch: 4, MAE: 249.365050, Invalid numbers: 0\n",
            "Epoch: 5, MAE: 154.529400, Invalid numbers: 0\n",
            "Epoch: 6, MAE: 137.164000, Invalid numbers: 0\n",
            "Epoch: 7, MAE: 123.272500, Invalid numbers: 0\n",
            "Epoch: 8, MAE: 89.786700, Invalid numbers: 0\n",
            "Epoch: 9, MAE: 51.795450, Invalid numbers: 0\n",
            "Epoch: 10, MAE: 45.514100, Invalid numbers: 0\n"
          ],
          "name": "stdout"
        }
      ]
    },
    {
      "cell_type": "markdown",
      "metadata": {
        "id": "HGieBHW3JaCH",
        "colab_type": "text"
      },
      "source": [
        "# Extra Experiment: Hyperparameter Tuning"
      ]
    },
    {
      "cell_type": "code",
      "metadata": {
        "id": "0gJf5gcAJjvm",
        "colab_type": "code",
        "colab": {
          "base_uri": "https://localhost:8080/",
          "height": 1000
        },
        "outputId": "5fd73c9e-9aef-48b3-921f-4bcbfec14696"
      },
      "source": [
        "tf.reset_default_graph()\n",
        "\n",
        "model = Seq2SeqModel(vocab_size=len(word2id),\n",
        "                     embeddings_size=20, \n",
        "                     hidden_size=512, \n",
        "                     max_iter=7, \n",
        "                     start_symbol_id=word2id[start_symbol], \n",
        "                     end_symbol_id=word2id[end_symbol], \n",
        "                     padding_symbol_id=word2id[padding_symbol])\n",
        "\n",
        "batch_size = 64  \n",
        "n_epochs = 15  \n",
        "learning_rate = 0.001 \n",
        "dropout_keep_probability = 0.6 \n",
        "max_len = 20 \n",
        "\n",
        "n_step = int(len(train_set) / batch_size)\n",
        "\n",
        "session = tf.Session()\n",
        "session.run(tf.global_variables_initializer())\n",
        "            \n",
        "invalid_number_prediction_counts = []\n",
        "all_model_predictions = []\n",
        "all_ground_truth = []\n",
        "\n",
        "print('Start training... \\n')\n",
        "for epoch in range(n_epochs):  \n",
        "    random.shuffle(train_set)\n",
        "    random.shuffle(test_set)\n",
        "    \n",
        "    print('Train: epoch', epoch + 1)\n",
        "    for n_iter, (X_batch, Y_batch) in enumerate(generate_batches(train_set, batch_size=batch_size)):\n",
        "        X, X_seq_len = batch_to_ids(X_batch, word2id, max_len)\n",
        "        Y, Y_seq_len = batch_to_ids(Y_batch, word2id, max_len)\n",
        "        predictions, loss = model.train_on_batch(session, X, X_seq_len, Y, Y_seq_len, learning_rate, dropout_keep_probability)\n",
        "        \n",
        "        if n_iter % 200 == 0:\n",
        "            print(\"Epoch: [%d/%d], step: [%d/%d], loss: %f\" % (epoch + 1, n_epochs, n_iter + 1, n_step, loss))\n",
        "                \n",
        "    X_sent, Y_sent = next(generate_batches(test_set, batch_size=batch_size))\n",
        "    X, X_seq_len = batch_to_ids(X_sent, word2id, max_len)\n",
        "    Y, Y_seq_len = batch_to_ids(Y_sent, word2id, max_len)\n",
        "    \n",
        "    predictions, loss = model.predict_for_batch_with_loss(session, X, X_seq_len, Y, Y_seq_len)\n",
        "    \n",
        "    print('Test: epoch', epoch + 1, 'loss:', loss,)\n",
        "    for x, y, p  in list(zip(X, Y, predictions))[:3]:\n",
        "        print('X:',''.join(ids_to_sentence(x, id2word)))\n",
        "        print('Y:',''.join(ids_to_sentence(y, id2word)))\n",
        "        print('O:',''.join(ids_to_sentence(p, id2word)))\n",
        "        print('')\n",
        "\n",
        "    model_predictions = []\n",
        "    ground_truth = []\n",
        "    invalid_number_prediction_count = 0\n",
        "\n",
        "    for X_batch, Y_batch in generate_batches(test_set, batch_size=batch_size):\n",
        "\n",
        "        X, X_seq_len = batch_to_ids(X_batch, word2id, max_len)\n",
        "        Y, Y_seq_len = batch_to_ids(Y_batch, word2id, max_len)\n",
        "        pred, loss = model.predict_for_batch_with_loss(session, X, X_seq_len, Y, Y_seq_len)\n",
        "        \n",
        "        for y, p in zip(Y, pred):\n",
        "          try:\n",
        "            val_t = eval(''.join(ids_to_sentence(y, id2word)).split('$')[0])\n",
        "            val_p = eval(''.join(ids_to_sentence(p, id2word)).split('$')[0])\n",
        "            model_predictions.append(val_p)\n",
        "            ground_truth.append(val_t)\n",
        "          except:\n",
        "            invalid_number_prediction_count += 1  \n",
        "    \n",
        "    all_model_predictions.append(model_predictions)\n",
        "    all_ground_truth.append(ground_truth)\n",
        "    invalid_number_prediction_counts.append(invalid_number_prediction_count)\n",
        "            \n",
        "print('\\n...training finished.')\n",
        "\n",
        "for i, (gts, predictions, invalid_number_prediction_count) in enumerate(zip(all_ground_truth,\n",
        "                                                                            all_model_predictions,\n",
        "                                                                            invalid_number_prediction_counts), 1):\n",
        "    mae = mean_absolute_error(gts, predictions)\n",
        "    print(\"Epoch: %i, MAE: %f, Invalid numbers: %i\" % (i, mae, invalid_number_prediction_count))"
      ],
      "execution_count": 49,
      "outputs": [
        {
          "output_type": "stream",
          "text": [
            "Start training... \n",
            "\n",
            "Train: epoch 1\n",
            "Epoch: [1/15], step: [1/1250], loss: 2.721740\n",
            "Epoch: [1/15], step: [201/1250], loss: 1.858463\n",
            "Epoch: [1/15], step: [401/1250], loss: 1.778787\n",
            "Epoch: [1/15], step: [601/1250], loss: 1.700155\n",
            "Epoch: [1/15], step: [801/1250], loss: 1.637716\n",
            "Epoch: [1/15], step: [1001/1250], loss: 1.621074\n",
            "Epoch: [1/15], step: [1201/1250], loss: 1.537235\n",
            "Test: epoch 1 loss: 1.4770416\n",
            "X: 4759+682$#\n",
            "Y: 5441$#\n",
            "O: 6339$#\n",
            "\n",
            "X: 974-9822$#\n",
            "Y: -8848$\n",
            "O: -8199$\n",
            "\n",
            "X: 737+8952$#\n",
            "Y: 9689$#\n",
            "O: 10099$\n",
            "\n",
            "Train: epoch 2\n",
            "Epoch: [2/15], step: [1/1250], loss: 1.530252\n",
            "Epoch: [2/15], step: [201/1250], loss: 1.490983\n",
            "Epoch: [2/15], step: [401/1250], loss: 1.497170\n",
            "Epoch: [2/15], step: [601/1250], loss: 1.426577\n",
            "Epoch: [2/15], step: [801/1250], loss: 1.461188\n",
            "Epoch: [2/15], step: [1001/1250], loss: 1.374544\n",
            "Epoch: [2/15], step: [1201/1250], loss: 1.381099\n",
            "Test: epoch 2 loss: 1.2953835\n",
            "X: 9437-3426$\n",
            "Y: 6011$#\n",
            "O: 6006$#\n",
            "\n",
            "X: 1020-550$#\n",
            "Y: 470$##\n",
            "O: 1075$#\n",
            "\n",
            "X: 7426+2545$\n",
            "Y: 9971$#\n",
            "O: 9942$#\n",
            "\n",
            "Train: epoch 3\n",
            "Epoch: [3/15], step: [1/1250], loss: 1.397932\n",
            "Epoch: [3/15], step: [201/1250], loss: 1.365318\n",
            "Epoch: [3/15], step: [401/1250], loss: 1.320560\n",
            "Epoch: [3/15], step: [601/1250], loss: 1.415212\n",
            "Epoch: [3/15], step: [801/1250], loss: 1.349810\n",
            "Epoch: [3/15], step: [1001/1250], loss: 1.350000\n",
            "Epoch: [3/15], step: [1201/1250], loss: 1.308181\n",
            "Test: epoch 3 loss: 1.238909\n",
            "X: 8062-6294$\n",
            "Y: 1768$#\n",
            "O: 1899$#\n",
            "\n",
            "X: 2135+6558$\n",
            "Y: 8693$#\n",
            "O: 8510$#\n",
            "\n",
            "X: 3717-8166$\n",
            "Y: -4449$\n",
            "O: -4659$\n",
            "\n",
            "Train: epoch 4\n",
            "Epoch: [4/15], step: [1/1250], loss: 1.273192\n",
            "Epoch: [4/15], step: [201/1250], loss: 1.355444\n",
            "Epoch: [4/15], step: [401/1250], loss: 1.280964\n",
            "Epoch: [4/15], step: [601/1250], loss: 1.239006\n",
            "Epoch: [4/15], step: [801/1250], loss: 1.265548\n",
            "Epoch: [4/15], step: [1001/1250], loss: 1.285939\n",
            "Epoch: [4/15], step: [1201/1250], loss: 1.238055\n",
            "Test: epoch 4 loss: 1.2189091\n",
            "X: 9740-3890$\n",
            "Y: 5850$#\n",
            "O: 5580$#\n",
            "\n",
            "X: 2705+1777$\n",
            "Y: 4482$#\n",
            "O: 4415$#\n",
            "\n",
            "X: 4654+4532$\n",
            "Y: 9186$#\n",
            "O: 9311$#\n",
            "\n",
            "Train: epoch 5\n",
            "Epoch: [5/15], step: [1/1250], loss: 1.208333\n",
            "Epoch: [5/15], step: [201/1250], loss: 1.246511\n",
            "Epoch: [5/15], step: [401/1250], loss: 1.239989\n",
            "Epoch: [5/15], step: [601/1250], loss: 1.207181\n",
            "Epoch: [5/15], step: [801/1250], loss: 1.257101\n",
            "Epoch: [5/15], step: [1001/1250], loss: 1.238273\n",
            "Epoch: [5/15], step: [1201/1250], loss: 1.185672\n",
            "Test: epoch 5 loss: 1.1867707\n",
            "X: 6707-2137$\n",
            "Y: 4570$#\n",
            "O: 4592$#\n",
            "\n",
            "X: 3788+5997$\n",
            "Y: 9785$#\n",
            "O: 9888$#\n",
            "\n",
            "X: 8289+6890$\n",
            "Y: 15179$\n",
            "O: 15012$\n",
            "\n",
            "Train: epoch 6\n",
            "Epoch: [6/15], step: [1/1250], loss: 1.209309\n",
            "Epoch: [6/15], step: [201/1250], loss: 1.254084\n",
            "Epoch: [6/15], step: [401/1250], loss: 1.194582\n",
            "Epoch: [6/15], step: [601/1250], loss: 1.196261\n",
            "Epoch: [6/15], step: [801/1250], loss: 1.152126\n",
            "Epoch: [6/15], step: [1001/1250], loss: 1.191697\n",
            "Epoch: [6/15], step: [1201/1250], loss: 1.165289\n",
            "Test: epoch 6 loss: 1.1368006\n",
            "X: 9022-532$#\n",
            "Y: 8490$#\n",
            "O: 8309$#\n",
            "\n",
            "X: 4835+201$#\n",
            "Y: 5036$#\n",
            "O: 5077$#\n",
            "\n",
            "X: 3040+5123$\n",
            "Y: 8163$#\n",
            "O: 8199$#\n",
            "\n",
            "Train: epoch 7\n",
            "Epoch: [7/15], step: [1/1250], loss: 1.274214\n",
            "Epoch: [7/15], step: [201/1250], loss: 1.123326\n",
            "Epoch: [7/15], step: [401/1250], loss: 1.142529\n",
            "Epoch: [7/15], step: [601/1250], loss: 1.161310\n",
            "Epoch: [7/15], step: [801/1250], loss: 1.157447\n",
            "Epoch: [7/15], step: [1001/1250], loss: 1.177476\n",
            "Epoch: [7/15], step: [1201/1250], loss: 1.181862\n",
            "Test: epoch 7 loss: 1.1013132\n",
            "X: 2535-1524$\n",
            "Y: 1011$#\n",
            "O: 998$##\n",
            "\n",
            "X: 6826+2588$\n",
            "Y: 9414$#\n",
            "O: 9399$#\n",
            "\n",
            "X: 7610-208$#\n",
            "Y: 7402$#\n",
            "O: 7457$#\n",
            "\n",
            "Train: epoch 8\n",
            "Epoch: [8/15], step: [1/1250], loss: 1.169236\n",
            "Epoch: [8/15], step: [201/1250], loss: 1.102411\n",
            "Epoch: [8/15], step: [401/1250], loss: 1.213711\n",
            "Epoch: [8/15], step: [601/1250], loss: 1.157369\n",
            "Epoch: [8/15], step: [801/1250], loss: 1.141256\n",
            "Epoch: [8/15], step: [1001/1250], loss: 1.110715\n",
            "Epoch: [8/15], step: [1201/1250], loss: 1.150123\n",
            "Test: epoch 8 loss: 1.0934082\n",
            "X: 4287+8250$\n",
            "Y: 12537$\n",
            "O: 12577$\n",
            "\n",
            "X: 1557-3714$\n",
            "Y: -2157$\n",
            "O: -2277$\n",
            "\n",
            "X: 6281-2437$\n",
            "Y: 3844$#\n",
            "O: 3848$#\n",
            "\n",
            "Train: epoch 9\n",
            "Epoch: [9/15], step: [1/1250], loss: 1.131806\n",
            "Epoch: [9/15], step: [201/1250], loss: 1.118258\n",
            "Epoch: [9/15], step: [401/1250], loss: 1.124865\n",
            "Epoch: [9/15], step: [601/1250], loss: 1.108886\n",
            "Epoch: [9/15], step: [801/1250], loss: 1.092375\n",
            "Epoch: [9/15], step: [1001/1250], loss: 1.085411\n",
            "Epoch: [9/15], step: [1201/1250], loss: 1.083156\n",
            "Test: epoch 9 loss: 1.1118093\n",
            "X: 6297-4020$\n",
            "Y: 2277$#\n",
            "O: 2240$#\n",
            "\n",
            "X: 2698+5918$\n",
            "Y: 8616$#\n",
            "O: 8677$#\n",
            "\n",
            "X: 1401-405$#\n",
            "Y: 996$##\n",
            "O: 1041$#\n",
            "\n",
            "Train: epoch 10\n",
            "Epoch: [10/15], step: [1/1250], loss: 1.072435\n",
            "Epoch: [10/15], step: [201/1250], loss: 1.069649\n",
            "Epoch: [10/15], step: [401/1250], loss: 1.097308\n",
            "Epoch: [10/15], step: [601/1250], loss: 1.102841\n",
            "Epoch: [10/15], step: [801/1250], loss: 1.138871\n",
            "Epoch: [10/15], step: [1001/1250], loss: 1.068077\n",
            "Epoch: [10/15], step: [1201/1250], loss: 1.089090\n",
            "Test: epoch 10 loss: 1.0507698\n",
            "X: 9636+5544$\n",
            "Y: 15180$\n",
            "O: 15190$\n",
            "\n",
            "X: 2628+1419$\n",
            "Y: 4047$#\n",
            "O: 3998$#\n",
            "\n",
            "X: 5354+4117$\n",
            "Y: 9471$#\n",
            "O: 9490$#\n",
            "\n",
            "Train: epoch 11\n",
            "Epoch: [11/15], step: [1/1250], loss: 1.100049\n",
            "Epoch: [11/15], step: [201/1250], loss: 1.066213\n",
            "Epoch: [11/15], step: [401/1250], loss: 1.082263\n",
            "Epoch: [11/15], step: [601/1250], loss: 1.077495\n",
            "Epoch: [11/15], step: [801/1250], loss: 1.165373\n",
            "Epoch: [11/15], step: [1001/1250], loss: 1.102196\n",
            "Epoch: [11/15], step: [1201/1250], loss: 1.078321\n",
            "Test: epoch 11 loss: 1.0343312\n",
            "X: 3275+3132$\n",
            "Y: 6407$#\n",
            "O: 6448$#\n",
            "\n",
            "X: 5523-2623$\n",
            "Y: 2900$#\n",
            "O: 2928$#\n",
            "\n",
            "X: 2521-9664$\n",
            "Y: -7143$\n",
            "O: -7117$\n",
            "\n",
            "Train: epoch 12\n",
            "Epoch: [12/15], step: [1/1250], loss: 1.063409\n",
            "Epoch: [12/15], step: [201/1250], loss: 1.027785\n",
            "Epoch: [12/15], step: [401/1250], loss: 1.070069\n",
            "Epoch: [12/15], step: [601/1250], loss: 1.076736\n",
            "Epoch: [12/15], step: [801/1250], loss: 1.122740\n",
            "Epoch: [12/15], step: [1001/1250], loss: 1.097825\n",
            "Epoch: [12/15], step: [1201/1250], loss: 1.110812\n",
            "Test: epoch 12 loss: 1.0108021\n",
            "X: 2595+8801$\n",
            "Y: 11396$\n",
            "O: 11399$\n",
            "\n",
            "X: 5623+4457$\n",
            "Y: 10080$\n",
            "O: 10069$\n",
            "\n",
            "X: 9579+5154$\n",
            "Y: 14733$\n",
            "O: 14689$\n",
            "\n",
            "Train: epoch 13\n",
            "Epoch: [13/15], step: [1/1250], loss: 1.038131\n",
            "Epoch: [13/15], step: [201/1250], loss: 1.007321\n",
            "Epoch: [13/15], step: [401/1250], loss: 1.093095\n",
            "Epoch: [13/15], step: [601/1250], loss: 0.993100\n",
            "Epoch: [13/15], step: [801/1250], loss: 1.032595\n",
            "Epoch: [13/15], step: [1001/1250], loss: 1.088038\n",
            "Epoch: [13/15], step: [1201/1250], loss: 1.035294\n",
            "Test: epoch 13 loss: 0.968671\n",
            "X: 9482+5522$\n",
            "Y: 15004$\n",
            "O: 15053$\n",
            "\n",
            "X: 4891-6598$\n",
            "Y: -1707$\n",
            "O: -1707$\n",
            "\n",
            "X: 4203+2197$\n",
            "Y: 6400$#\n",
            "O: 6454$#\n",
            "\n",
            "Train: epoch 14\n",
            "Epoch: [14/15], step: [1/1250], loss: 1.032778\n",
            "Epoch: [14/15], step: [201/1250], loss: 1.033186\n",
            "Epoch: [14/15], step: [401/1250], loss: 1.075567\n",
            "Epoch: [14/15], step: [601/1250], loss: 1.035694\n",
            "Epoch: [14/15], step: [801/1250], loss: 1.056784\n",
            "Epoch: [14/15], step: [1001/1250], loss: 1.015983\n",
            "Epoch: [14/15], step: [1201/1250], loss: 1.005450\n",
            "Test: epoch 14 loss: 0.95149964\n",
            "X: 6720+222$#\n",
            "Y: 6942$#\n",
            "O: 6881$#\n",
            "\n",
            "X: 6629+8826$\n",
            "Y: 15455$\n",
            "O: 15411$\n",
            "\n",
            "X: 8645-7957$\n",
            "Y: 688$##\n",
            "O: 744$##\n",
            "\n",
            "Train: epoch 15\n",
            "Epoch: [15/15], step: [1/1250], loss: 0.961911\n",
            "Epoch: [15/15], step: [201/1250], loss: 1.018612\n",
            "Epoch: [15/15], step: [401/1250], loss: 1.031101\n",
            "Epoch: [15/15], step: [601/1250], loss: 0.994047\n",
            "Epoch: [15/15], step: [801/1250], loss: 0.962045\n",
            "Epoch: [15/15], step: [1001/1250], loss: 0.979751\n",
            "Epoch: [15/15], step: [1201/1250], loss: 1.033815\n",
            "Test: epoch 15 loss: 0.96585506\n",
            "X: 9171+2670$\n",
            "Y: 11841$\n",
            "O: 11806$\n",
            "\n",
            "X: 6999+8623$\n",
            "Y: 15622$\n",
            "O: 15689$\n",
            "\n",
            "X: 6195-8140$\n",
            "Y: -1945$\n",
            "O: -1905$\n",
            "\n",
            "\n",
            "...training finished.\n",
            "Epoch: 1, MAE: 519.444050, Invalid numbers: 0\n",
            "Epoch: 2, MAE: 227.606350, Invalid numbers: 0\n",
            "Epoch: 3, MAE: 167.304800, Invalid numbers: 0\n",
            "Epoch: 4, MAE: 119.127000, Invalid numbers: 0\n",
            "Epoch: 5, MAE: 94.221850, Invalid numbers: 0\n",
            "Epoch: 6, MAE: 87.956450, Invalid numbers: 0\n",
            "Epoch: 7, MAE: 77.184800, Invalid numbers: 0\n",
            "Epoch: 8, MAE: 66.936950, Invalid numbers: 0\n",
            "Epoch: 9, MAE: 60.676550, Invalid numbers: 0\n",
            "Epoch: 10, MAE: 52.777800, Invalid numbers: 0\n",
            "Epoch: 11, MAE: 52.477800, Invalid numbers: 0\n",
            "Epoch: 12, MAE: 48.993250, Invalid numbers: 0\n",
            "Epoch: 13, MAE: 43.006750, Invalid numbers: 0\n",
            "Epoch: 14, MAE: 44.611500, Invalid numbers: 0\n",
            "Epoch: 15, MAE: 37.229250, Invalid numbers: 0\n"
          ],
          "name": "stdout"
        }
      ]
    }
  ]
}